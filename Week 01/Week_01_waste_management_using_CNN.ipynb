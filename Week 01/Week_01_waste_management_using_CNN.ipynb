{
  "nbformat": 4,
  "nbformat_minor": 0,
  "metadata": {
    "colab": {
      "provenance": []
    },
    "kernelspec": {
      "name": "python3",
      "display_name": "Python 3"
    },
    "language_info": {
      "name": "python"
    }
  },
  "cells": [
    {
      "cell_type": "code",
      "source": [
        "import os\n",
        "\n",
        "dataset_path = \"/root/.cache/kagglehub/datasets/techsash/waste-classification-data/versions/1\"\n",
        "\n",
        "for root, dirs, files in os.walk(dataset_path):\n",
        "    print(f\"Directory: {root}\")\n",
        "    print(f\"Subdirectories: {dirs}\")\n",
        "    print(f\"Files: {files}\")\n",
        "    print(\"-\" * 50)\n"
      ],
      "metadata": {
        "id": "PdZIh3BAq23R"
      },
      "execution_count": null,
      "outputs": []
    },
    {
      "cell_type": "code",
      "source": [
        "train_path = \"/root/.cache/kagglehub/datasets/techsash/waste-classification-data/versions/1/dataset/DATASET/TRAIN\"\n",
        "test_path = \"/root/.cache/kagglehub/datasets/techsash/waste-classification-data/versions/1/dataset/DATASET/TEST\"\n"
      ],
      "metadata": {
        "id": "hXX7Pp7sm1CG"
      },
      "execution_count": 8,
      "outputs": []
    },
    {
      "cell_type": "code",
      "source": [
        "import os\n",
        "import shutil\n",
        "import random\n",
        "\n",
        "def create_subset(source_path, dest_path, subset_ratio=0.5):\n",
        "    # Ensure the destination directory exists\n",
        "    os.makedirs(dest_path, exist_ok=True)\n",
        "\n",
        "    for category in os.listdir(source_path):\n",
        "        category_path = os.path.join(source_path, category)\n",
        "        if not os.path.isdir(category_path):\n",
        "            continue\n",
        "\n",
        "        # Destination category directory\n",
        "        dest_category_path = os.path.join(dest_path, category)\n",
        "        os.makedirs(dest_category_path, exist_ok=True)\n",
        "\n",
        "        # Get all files in the category\n",
        "        files = os.listdir(category_path)\n",
        "        random.shuffle(files)\n",
        "\n",
        "        # Select a subset\n",
        "        subset_size = int(len(files) * subset_ratio)\n",
        "        subset_files = files[:subset_size]\n",
        "\n",
        "        # Copy the subset files\n",
        "        for file in subset_files:\n",
        "            src_file = os.path.join(category_path, file)\n",
        "            dest_file = os.path.join(dest_category_path, file)\n",
        "            shutil.copy(src_file, dest_file)\n",
        "\n",
        "# Paths for subset\n",
        "subset_train_path = \"dataset/TRAIN_SUBSET\"\n",
        "subset_test_path = \"dataset/TEST_SUBSET\"\n",
        "import os\n",
        "import shutil\n",
        "import random\n",
        "\n",
        "def create_subset(source_path, dest_path, subset_ratio=0.5):\n",
        "    # Ensure the destination directory exists\n",
        "    os.makedirs(dest_path, exist_ok=True)\n",
        "\n",
        "    for category in os.listdir(source_path):\n",
        "        category_path = os.path.join(source_path, category)\n",
        "        if not os.path.isdir(category_path):\n",
        "            continue\n",
        "\n",
        "        # Destination category directory\n",
        "        dest_category_path = os.path.join(dest_path, category)\n",
        "        os.makedirs(dest_category_path, exist_ok=True)\n",
        "\n",
        "        # Get all files in the category\n",
        "        files = os.listdir(category_path)\n",
        "        random.shuffle(files)\n",
        "\n",
        "        # Select a subset\n",
        "        subset_size = int(len(files) * subset_ratio)\n",
        "        subset_files = files[:subset_size]\n",
        "\n",
        "        # Copy the subset files\n",
        "        for file in subset_files:\n",
        "            src_file = os.path.join(category_path, file)\n",
        "            dest_file = os.path.join(dest_category_path, file)\n",
        "            shutil.copy(src_file, dest_file)\n",
        "\n",
        "# Paths for subset\n",
        "train_path = \"/root/.cache/kagglehub/datasets/techsash/waste-classification-data/versions/1/dataset/DATASET/TRAIN\"\n",
        "test_path = \"/root/.cache/kagglehub/datasets/techsash/waste-classification-data/versions/1/dataset/DATASET/TEST\"\n",
        "subset_train_path = \"dataset/TRAIN_SUBSET\"\n",
        "subset_test_path = \"dataset/TEST_SUBSET\"\n",
        "\n",
        "# Create subsets\n",
        "create_subset(train_path, subset_train_path, subset_ratio=0.5)\n",
        "create_subset(test_path, subset_test_path, subset_ratio=0.5)\n",
        "\n",
        "print(\"Subset created successfully!\")\n",
        "\n",
        "# Create subsets\n",
        "create_subset(train_path, subset_train_path, subset_ratio=0.5)\n",
        "create_subset(test_path, subset_test_path, subset_ratio=0.5)\n",
        "\n",
        "print(\"Subset created successfully!\")\n"
      ],
      "metadata": {
        "colab": {
          "base_uri": "https://localhost:8080/"
        },
        "id": "7vn_WbtNm2bt",
        "outputId": "66fa6311-5d9c-4c56-bb95-40939410c4a3"
      },
      "execution_count": 9,
      "outputs": [
        {
          "output_type": "stream",
          "name": "stdout",
          "text": [
            "Subset created successfully!\n",
            "Subset created successfully!\n"
          ]
        }
      ]
    },
    {
      "cell_type": "code",
      "source": [
        "for root, dirs, files in os.walk(subset_test_path):\n",
        "    print(f\"Directory: {root}\")\n",
        "    print(f\"Number of files: {len(files)}\")\n",
        "    print(\"-\" * 50)\n"
      ],
      "metadata": {
        "colab": {
          "base_uri": "https://localhost:8080/"
        },
        "id": "QNJX6wszo_kS",
        "outputId": "c41d781b-ac6a-420f-95ec-54be58c656fa"
      },
      "execution_count": 11,
      "outputs": [
        {
          "output_type": "stream",
          "name": "stdout",
          "text": [
            "Directory: dataset/TEST_SUBSET\n",
            "Number of files: 0\n",
            "--------------------------------------------------\n",
            "Directory: dataset/TEST_SUBSET/R\n",
            "Number of files: 840\n",
            "--------------------------------------------------\n",
            "Directory: dataset/TEST_SUBSET/O\n",
            "Number of files: 1053\n",
            "--------------------------------------------------\n"
          ]
        }
      ]
    },
    {
      "cell_type": "code",
      "source": [
        "\n",
        "\n",
        "# Define paths for the smaller dataset\n",
        "train_path = \"dataset/TRAIN_SUBSET\"\n",
        "test_path = \"dataset/TEST_SUBSET\"\n",
        "\n",
        "\n",
        "# Data preprocessing and visualization\n",
        "x_data = []\n",
        "y_data = []\n",
        "\n",
        "# Reading images and labels\n",
        "for category in glob(train_path + \"/*\"):\n",
        "    label = category.split(\"/\")[-1]  # Extract label (folder name)\n",
        "    for file in tqdm(glob(category + \"/*\")):\n",
        "        img_array = cv2.imread(file)\n",
        "        if img_array is not None:  # Ensure image is successfully read\n",
        "            img_array = cv2.cvtColor(img_array, cv2.COLOR_BGR2RGB)\n",
        "            img_array = cv2.resize(img_array, (150, 150))  # Resize to (150x150)\n",
        "            x_data.append(img_array)\n",
        "            y_data.append(label)\n",
        "\n",
        "# Converting to a DataFrame\n",
        "data = pd.DataFrame({\"image\": x_data, \"label\": y_data})\n",
        "\n",
        "# Visualizing class distribution\n",
        "colors = ['#a0d157', '#c48bb8']\n",
        "plt.pie(\n",
        "    data['label'].value_counts(),\n",
        "    labels=data['label'].value_counts().index,\n",
        "    autopct='%0.2f%%',\n",
        "    colors=colors,\n",
        "    startangle=90,\n",
        "    explode=[0.05] * len(data['label'].value_counts()),\n",
        ")\n",
        "plt.title(\"Class Distribution\")\n",
        "plt.show()\n"
      ],
      "metadata": {
        "colab": {
          "base_uri": "https://localhost:8080/",
          "height": 464
        },
        "id": "CuZWhxZfmT3D",
        "outputId": "33805a7b-48f4-47f1-dffc-be6fb03ba93b"
      },
      "execution_count": 13,
      "outputs": [
        {
          "output_type": "stream",
          "name": "stderr",
          "text": [
            "100%|██████████| 7477/7477 [00:06<00:00, 1224.88it/s]\n",
            "100%|██████████| 9455/9455 [00:06<00:00, 1460.48it/s]\n"
          ]
        },
        {
          "output_type": "display_data",
          "data": {
            "text/plain": [
              "<Figure size 640x480 with 1 Axes>"
            ],
            "image/png": "[encoded data removed]"
          },
          "metadata": {}
        }
      ]
    },
    {
      "cell_type": "code",
      "source": [
        "# Visualizing class distribution with dark green and light blue\n",
        "colors = ['#006400', '#ADD8E6']  # Dark green and light blue\n",
        "\n",
        "plt.pie(\n",
        "    data['label'].value_counts(),\n",
        "    labels=data['label'].value_counts().index,\n",
        "    autopct='%0.2f%%',\n",
        "    colors=colors,\n",
        "    startangle=90,\n",
        "    explode=[0.03] * len(data['label'].value_counts()),\n",
        ")\n",
        "# Adding a text annotation to explain the labels\n",
        "plt.text(\n",
        "    0, -1.2, \"O = Organic\\nR = Recyclable\", ha='center', va='center', fontsize=12, color='black'\n",
        ")\n",
        "plt.title(\"Class Distribution\")\n",
        "plt.show()\n"
      ],
      "metadata": {
        "colab": {
          "base_uri": "https://localhost:8080/",
          "height": 440
        },
        "id": "d6I-goJaqRga",
        "outputId": "336b5555-b05f-41b9-e5ab-83bf68d2e77f"
      },
      "execution_count": 19,
      "outputs": [
        {
          "output_type": "display_data",
          "data": {
            "text/plain": [
              "<Figure size 640x480 with 1 Axes>"
            ],
            "image/png": "[encoded data removed]"
          },
          "metadata": {}
        }
      ]
    }
  ]
}